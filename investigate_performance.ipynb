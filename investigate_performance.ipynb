{
 "cells": [
  {
   "cell_type": "code",
   "execution_count": 22,
   "metadata": {
    "collapsed": true
   },
   "outputs": [],
   "source": [
    "import json\n",
    "import numpy as np"
   ]
  },
  {
   "cell_type": "code",
   "execution_count": 33,
   "outputs": [],
   "source": [],
   "metadata": {
    "collapsed": false
   }
  },
  {
   "cell_type": "code",
   "execution_count": 64,
   "outputs": [],
   "source": [
    "plain = []\n",
    "enriched = []\n",
    "\n",
    "plain_train = []\n",
    "enriched_train = []\n",
    "\n",
    "for t in ['plain', 'enriched']:\n",
    "    for i in ['02.01', '02.02', '02.03']:\n",
    "        data = json.load(open(f'results/run={i}_model=GINE_freeze=False_dim=32_lr=0.001_ming=75.json'))\n",
    "        train_scores = []\n",
    "        val_scores = []\n",
    "\n",
    "        for pattern_size in data:\n",
    "            for pattern in data[pattern_size]:\n",
    "                for graph_size in data[pattern_size][pattern]:\n",
    "                    r = data[pattern_size][pattern][graph_size][t]['F1']\n",
    "                    if r['val'] != -1:\n",
    "                        train_scores.append(r['train'])\n",
    "                        val_scores.append(r['val'])\n",
    "\n",
    "        if t == 'plain':\n",
    "            plain.append(np.mean(val_scores))\n",
    "            plain_train.append(np.mean(train_scores))\n",
    "        else:\n",
    "            enriched.append(np.mean(val_scores))\n",
    "            enriched_train.append(np.mean(train_scores))\n",
    "        #np.mean(train_scores)\n",
    "        #np.mean(val_scores)"
   ],
   "metadata": {
    "collapsed": false
   }
  },
  {
   "cell_type": "code",
   "execution_count": 62,
   "outputs": [
    {
     "data": {
      "text/plain": "[0.9432527607824794, 0.9383406200984337, 0.9363288616088284]"
     },
     "execution_count": 62,
     "metadata": {},
     "output_type": "execute_result"
    }
   ],
   "source": [
    "plain"
   ],
   "metadata": {
    "collapsed": false
   }
  },
  {
   "cell_type": "code",
   "execution_count": 65,
   "outputs": [
    {
     "data": {
      "text/plain": "[0.9556221739819624, 0.9514712767071971, 0.9494142833309379]"
     },
     "execution_count": 65,
     "metadata": {},
     "output_type": "execute_result"
    }
   ],
   "source": [
    "plain_train"
   ],
   "metadata": {
    "collapsed": false
   }
  },
  {
   "cell_type": "code",
   "execution_count": 63,
   "outputs": [
    {
     "data": {
      "text/plain": "[0.9103269315550233, 0.9136215694393053, 0.9097447071221255]"
     },
     "execution_count": 63,
     "metadata": {},
     "output_type": "execute_result"
    }
   ],
   "source": [
    "enriched"
   ],
   "metadata": {
    "collapsed": false
   }
  },
  {
   "cell_type": "code",
   "execution_count": 66,
   "outputs": [
    {
     "data": {
      "text/plain": "[0.9485353843457409, 0.9504111544315824, 0.9459606429294187]"
     },
     "execution_count": 66,
     "metadata": {},
     "output_type": "execute_result"
    }
   ],
   "source": [
    "enriched_train"
   ],
   "metadata": {
    "collapsed": false
   }
  },
  {
   "cell_type": "code",
   "execution_count": 42,
   "outputs": [],
   "source": [],
   "metadata": {
    "collapsed": false
   }
  }
 ],
 "metadata": {
  "kernelspec": {
   "display_name": "Python 3",
   "language": "python",
   "name": "python3"
  },
  "language_info": {
   "codemirror_mode": {
    "name": "ipython",
    "version": 2
   },
   "file_extension": ".py",
   "mimetype": "text/x-python",
   "name": "python",
   "nbconvert_exporter": "python",
   "pygments_lexer": "ipython2",
   "version": "2.7.6"
  }
 },
 "nbformat": 4,
 "nbformat_minor": 0
}
